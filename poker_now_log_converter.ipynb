{
  "nbformat": 4,
  "nbformat_minor": 0,
  "metadata": {
    "colab": {
      "provenance": []
    },
    "kernelspec": {
      "name": "python3",
      "display_name": "Python 3"
    },
    "language_info": {
      "name": "python"
    },
    "gpuClass": "standard",
    "accelerator": "GPU"
  },
  "cells": [
    {
      "cell_type": "markdown",
      "source": [
        "左側のファイルのマークをクリックする。\n",
        "sample_dataの下の空いているところにぽーかーなうのログ(今回はpoker_now_log.csvという名前にした)をドラッグアンドドロップしてアップロードする。"
      ],
      "metadata": {
        "id": "ZVXO8wCM5wec"
      }
    },
    {
      "cell_type": "code",
      "source": [
        "# アップロードできたことを確認する。アップロードしたファイルがあればOK\n",
        "!ls"
      ],
      "metadata": {
        "id": "YHXKwvVX606p"
      },
      "execution_count": null,
      "outputs": []
    },
    {
      "cell_type": "code",
      "source": [
        "# poker-now-log-converter(https://pypi.org/project/poker-now-log-converter/)をインストールする\n",
        "!pip install poker-now-log-converter\n",
        "\n",
        "# Successfully installed poker-now-log-converter-0.0.10と出てきたらOK"
      ],
      "metadata": {
        "id": "pYXybd7fxiYH"
      },
      "execution_count": null,
      "outputs": []
    },
    {
      "cell_type": "code",
      "source": [
        "# poker-now-log-converterでファイルを変換する\n",
        "# -HのあとにHeroの名前を半角で入れる(ここではtono)。通貨単位とかタイムゾーンとかオプション色々あるけどめんどいので、引用元のまま。\n",
        "!python -m poker_now_log_converter -H tono -f poker_now_log.csv -c USD -tz GMT -i\n",
        "# 実行すると\n",
        "# Set a new alias for player:～\n",
        "# と出てくるので、各プレイヤーに割り当てたい名前を半角で入れてEnter。自分の名前は上で入れたHeroと一致させる"
      ],
      "metadata": {
        "id": "-2o0ovtQy2cu"
      },
      "execution_count": null,
      "outputs": []
    },
    {
      "cell_type": "code",
      "source": [
        "# Poker Now Log Converter Finished.と上に出ていたらOK\n",
        "# 出力されたファイルを確認する\n",
        "# \"ConvertedPNLog～ というのがあるはず。\n",
        "!ls"
      ],
      "metadata": {
        "id": "q1IEpmJ91cZP"
      },
      "execution_count": null,
      "outputs": []
    },
    {
      "cell_type": "markdown",
      "source": [
        "左側上のファイルにぐるぐるがついてるアイコンをクリックしてファイル一覧を再読み込みする。\n",
        "\"ConvertedPNLog～ にマウスを合わせると ︙ が出てくるのでクリックしてダウンロードを選択\n"
      ],
      "metadata": {
        "id": "od00nwy_5ho2"
      }
    }
  ]
}
